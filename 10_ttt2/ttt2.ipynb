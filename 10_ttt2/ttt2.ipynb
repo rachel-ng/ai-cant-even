{
  "nbformat": 4,
  "nbformat_minor": 0,
  "metadata": {
    "colab": {
      "name": "ttt2.ipynb",
      "version": "0.3.2",
      "provenance": [],
      "collapsed_sections": []
    },
    "kernelspec": {
      "name": "python3",
      "display_name": "Python 3"
    }
  },
  "cells": [
    {
      "cell_type": "code",
      "metadata": {
        "id": "5PL2XCZLDM7Q",
        "colab_type": "code",
        "colab": {}
      },
      "source": [
        "''' Layout positions:\n",
        "0 1 2\n",
        "3 4 5\n",
        "6 7 8\n",
        "'''\n",
        "\n",
        "# layouts look like \"_x_ox__o_\"\n",
        "\n",
        "Wins = [[0,1,2],[3,4,5],[6,7,8],[0,3,6],[1,4,7],[2,5,8],[0,4,8],[2,4,6]]\n",
        "\n",
        "AllBoards = {} # this is a dictionary with key = a layout, and value = its corresponding BoardNode\n",
        "\n",
        "xw = []\n",
        "ow = []\n",
        "dw = []\n",
        "no_end = 0\n",
        "ne = []\n",
        "\n",
        "class BoardNode:\n",
        "    def __init__(self,layout):\n",
        "        self.layout = layout\n",
        "        self.endState = self.win() \n",
        "        self.parents = []\n",
        "        self.children = []\n",
        "         \n",
        "    def print_me(self):\n",
        "        print ('layout:',self.layout, 'endState:',self.endState)\n",
        "        print ('parents:',self.parents)\n",
        "        print ('children:',self.children)\n",
        "        \n",
        "    def win(self):\n",
        "        all_poss = [[self.layout[k] for k in i if self.layout[k] != '_'] for i in Wins]\n",
        "        for i in all_poss: \n",
        "            if i == ['x'] * 3:\n",
        "                self.endState = i[0]\n",
        "                return 'x'\n",
        "            elif i == ['o'] * 3:\n",
        "                self.endState = i[0]\n",
        "                return 'o'\n",
        "        if '_' not in self.layout:\n",
        "            self.endState = 'd'\n",
        "            return 'd'\n",
        "        else:\n",
        "            return None"
      ],
      "execution_count": 0,
      "outputs": []
    },
    {
      "cell_type": "code",
      "metadata": {
        "id": "v1FoTohLXx_m",
        "colab_type": "code",
        "colab": {}
      },
      "source": [
        "def CreateAllBoards(layout,parent = None):\n",
        "    move = 'x'\n",
        "    nums_x = 0\n",
        "    nums_o = 0\n",
        "    for i in layout:\n",
        "        if i == 'x':\n",
        "            nums_x += 1\n",
        "        elif i == 'o':\n",
        "            nums_o += 1\n",
        "    if nums_x > nums_o:\n",
        "        move = 'o'\n",
        "    b = BoardNode(layout)\n",
        "    \n",
        "    if layout not in AllBoards:\n",
        "        AllBoards[layout] = b\n",
        "        \n",
        "    if parent:\n",
        "        b.parents.append(parent)\n",
        "        parent.children.append(layout)\n",
        "        \n",
        "    if b.endState:\n",
        "        if b.endState == 'x': xw.append(b)\n",
        "        if b.endState == 'o': ow.append(b)\n",
        "        if b.endState == 'd': dw.append(b)\n",
        "        return\n",
        "    if b.endState == None: ne.append(b)\n",
        "    for i in range(len(layout)):\n",
        "        if layout[i] == '_':\n",
        "            CreateAllBoards(layout[:i] + move + layout[i+1:],b)\n",
        "\n",
        "CreateAllBoards('_________')"
      ],
      "execution_count": 0,
      "outputs": []
    },
    {
      "cell_type": "code",
      "metadata": {
        "id": "LyRPD75nX0F4",
        "colab_type": "code",
        "colab": {
          "base_uri": "https://localhost:8080/",
          "height": 119
        },
        "outputId": "56b17139-78b7-43ce-9c65-b1515b3b6322"
      },
      "source": [
        "nums_child = 0\n",
        "for i in AllBoards.values():\n",
        "    for j in i.children:\n",
        "        nums_child += 1\n",
        "        \n",
        "print(\"allboards: \", len(AllBoards)) # 5478\n",
        "print(\"x wins: \", len(xw)) # 131184\n",
        "print(\"o wins: \", len(ow)) # 77904\n",
        "print(\"draws: \", len(dw)) # 46080\n",
        "\n",
        "print(\"not ends of games? \", len(ne))\n",
        " \n",
        "print(\"number of children: \", nums_child) # this seems wrong?? "
      ],
      "execution_count": 83,
      "outputs": [
        {
          "output_type": "stream",
          "text": [
            "allboards:  5478\n",
            "x wins:  258276\n",
            "o wins:  153806\n",
            "draws:  90632\n",
            "not ends of games?  580478\n",
            "number of children:  16165\n"
          ],
          "name": "stdout"
        }
      ]
    }
  ]
}