{
 "cells": [
  {
   "cell_type": "markdown",
   "metadata": {},
   "source": [
    "### Stack class###\n",
    "\n",
    "Using a list for data storage.  The list only expands and never contracts\n",
    "\n",
    "*peek(where)* is a little more general than the normal *peek()* function:<br>\n",
    "*peek()* = *peek(0)* shows the item at the top of the stack<br>\n",
    "*peek(1)* shows the item just below the top of the stack<br>\n",
    "*peek(-1)* shows the bottom of the stack<br>\n",
    "*peek(-2)* shows the the item one above the bottom of the stack"
   ]
  },
  {
   "cell_type": "code",
   "execution_count": 7,
   "metadata": {},
   "outputs": [],
   "source": [
    "class MyStack:\n",
    "    def __init__(self,store_immediate_list = None):\n",
    "        self.storage = []\n",
    "        self.filled = 0\n",
    "        # if there's anything to store immediately, push all items in that list\n",
    "        if store_immediate_list:\n",
    "            for an_item in store_immediate_list:\n",
    "                self.push(an_item)\n",
    "        \n",
    "    def size(self):\n",
    "        return self.filled\n",
    "    \n",
    "    def push(self,item):\n",
    "        if self.filled == len(self.storage):\n",
    "            self.storage.append(item)\n",
    "        else:\n",
    "            self.storage[self.filled] = item\n",
    "        self.filled += 1\n",
    "        \n",
    "    def pop(self):\n",
    "        if self.filled == 0:\n",
    "            return None\n",
    "        self.filled -= 1\n",
    "        return self.storage[self.filled]\n",
    "    \n",
    "    def peek(self,where = 0):\n",
    "        if where >= 0:\n",
    "            if where >= self.filled:\n",
    "                return None\n",
    "            return self.storage[self.filled - 1 - where]\n",
    "        else:\n",
    "            where = -where\n",
    "            if where > self.filled:\n",
    "                return None\n",
    "            return self.storage[where-1]\n"
   ]
  },
  {
   "cell_type": "code",
   "execution_count": 18,
   "metadata": {},
   "outputs": [
    {
     "name": "stdout",
     "output_type": "stream",
     "text": [
      "size = 3, should be 3\n",
      "peek() = 3, should be 3\n",
      "peek(2)= 1, should be 1\n",
      "peek(-2) = 2, should be 2\n",
      "pop() = 3, should be 3\n",
      "push(12), pop() = 12, should be 12\n",
      "pop(), pop() = 1, should be 1\n",
      "pop() should be None, is  None\n"
     ]
    }
   ],
   "source": [
    "# Testing\n",
    "a = MyStack(list(range(1,4)))\n",
    "print ('size = %d, should be 3' % a.size())\n",
    "print ('peek() = %d, should be 3' % a.peek())\n",
    "print ('peek(2)= %d, should be 1' % a.peek(2))\n",
    "print ('peek(-2) = %d, should be 2' % a.peek(-2))\n",
    "print ('pop() = %d, should be 3' % a.pop())\n",
    "a.push(12)\n",
    "print ('push(12), pop() = %d, should be 12' % a.pop())\n",
    "a.pop()\n",
    "print ('pop(), pop() = %d, should be 1' % a.pop())\n",
    "print ('pop() should be None, is ', a.pop())"
   ]
  }
 ],
 "metadata": {
  "kernelspec": {
   "display_name": "Python 3",
   "language": "python",
   "name": "python3"
  },
  "language_info": {
   "codemirror_mode": {
    "name": "ipython",
    "version": 3
   },
   "file_extension": ".py",
   "mimetype": "text/x-python",
   "name": "python",
   "nbconvert_exporter": "python",
   "pygments_lexer": "ipython3",
   "version": "3.6.0"
  }
 },
 "nbformat": 4,
 "nbformat_minor": 2
}
